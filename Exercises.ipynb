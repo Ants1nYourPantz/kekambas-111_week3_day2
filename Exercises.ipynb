{
 "cells": [
  {
   "cell_type": "markdown",
   "metadata": {},
   "source": [
    "#### Exercise 1 - Class Inheritance"
   ]
  },
  {
   "cell_type": "markdown",
   "metadata": {},
   "source": [
    "Create an Employee class that sets an employee's first name, last name, job title, salary, and email. The Employee class should have a class attribute for the raise amount set to 5% (1.05). Create a method that will apply the raise to an employee's salary."
   ]
  },
  {
   "cell_type": "code",
   "execution_count": 41,
   "metadata": {},
   "outputs": [
    {
     "name": "stdout",
     "output_type": "stream",
     "text": [
      "Dear Mike O'Neil, \n",
      "Thank you for your interest in our product. Please let me know if you have any questions. My email is jsmith@company.com or my phone number is  5555551234. Thanks, John Smith. \n",
      "=======================================================================================================================================\n",
      "Dear Hannah Stern, \n",
      "Thank you for your interest in our product. Please let me know if you have any questions. My email is jsmith@company.com or my phone number is  5555551234. Thanks, John Smith. \n",
      "=======================================================================================================================================\n",
      "52500.0\n",
      "=======================================================================================================================================\n",
      "Tony Danza is writing code.\n",
      "None\n",
      "=======================================================================================================================================\n",
      "105000.0\n"
     ]
    }
   ],
   "source": [
    "class Employee():\n",
    "    raise_amount = 1.05\n",
    "    def __init__(self, first, last, title, salary, email):\n",
    "        self.first = first\n",
    "        self.last = last\n",
    "        self.title = title\n",
    "        self.salary = salary\n",
    "        self.email = email\n",
    "        \n",
    "    def new_salary(self):\n",
    "        return self.salary * self.raise_amount \n",
    "        \n",
    "class Sales(Employee):\n",
    "    def __init__(self, first, last, title, salary, email, phone_number):\n",
    "        super().__init__(first, last, title, salary, email)\n",
    "        self.phone_number = phone_number\n",
    "        \n",
    "    def follow_up(self, customer_name):\n",
    "        return f'Dear {customer_name}, \\nThank you for your interest in our product. Please let me know if you have any questions. My email is {self.email} or my phone number is  {self.phone_number}. Thanks, {self.first} {self.last}. '\n",
    "        \n",
    "class Development(Employee):\n",
    "    def __init__(self, first, last, title, salary, email):\n",
    "        super().__init__(first, last, title, salary, email)\n",
    "        \n",
    "    def code(self):\n",
    "        print(f'{self.first.title()} {self.last.title()} is writing code.')\n",
    "        \n",
    "        \n",
    "employee1 = Sales(\"John\", \"Smith\", \"Sales\", 50000, \"jsmith@company.com\", 5555551234)\n",
    "employee2 = Development(\"Tony\", \"Danza\", \"Development\", 100000, \"tdanza@company.com\")\n",
    "\n",
    "print(employee1.follow_up(\"Mike O'Neil\"))\n",
    "print(\"=\" *135)\n",
    "print(employee1.follow_up(\"Hannah Stern\"))\n",
    "print(\"=\" *135)\n",
    "print(employee1.new_salary())\n",
    "print(\"=\" *135)\n",
    "print(employee2.code())\n",
    "print(\"=\" *135)\n",
    "print(employee2.new_salary())"
   ]
  },
  {
   "cell_type": "markdown",
   "metadata": {},
   "source": [
    "Create two more classes that inherit from the Employee class. One for Sales and one for Development. Both of these classes will have the same attributes as the Employee.<br>\n",
    "- For the Sales employees, add a phone number attribute on instantiation using the super method. \n",
    "- Create a method on the Sales class that will Send a Follow Up Email. It should take in a customer name and \"send\" aka print a formatted email \"Dear *customer*, Thank you for your interest in our product. Please let me know if you have any questions. My email is *email* or my phone number is *phone number*. Thanks, *full name*\"\n",
    "- Create a method on the Development class called code that will print out \"*full name* is writing code\"."
   ]
  },
  {
   "cell_type": "code",
   "execution_count": null,
   "metadata": {},
   "outputs": [],
   "source": []
  },
  {
   "cell_type": "markdown",
   "metadata": {},
   "source": [
    "- Create an instance of a Sales Employee with a salary of $50,000.\n",
    "- Send follow up emails to \"Mike O'Neil\" and \"Hannah Stern\"\n",
    "- Give the employee a raise and print the salary"
   ]
  },
  {
   "cell_type": "code",
   "execution_count": null,
   "metadata": {},
   "outputs": [],
   "source": []
  },
  {
   "cell_type": "markdown",
   "metadata": {},
   "source": [
    "- Create an instance of a Development Employee with a salary of $100,000\n",
    "- Write some code with this employee\n",
    "- Give the employee a raise and print the salary"
   ]
  },
  {
   "cell_type": "code",
   "execution_count": null,
   "metadata": {},
   "outputs": [],
   "source": []
  },
  {
   "cell_type": "markdown",
   "metadata": {},
   "source": [
    "#### Exercise 2 - Importing Modules"
   ]
  },
  {
   "cell_type": "markdown",
   "metadata": {},
   "source": [
    "In VS Code, create a module titled `geometry` and add two functions in there. One that will calculate the area of a circle given a radius. The second will find the hypotenuse of a right angle given the two sides. Import the module or the functions from the module and use it to find the answers to the below questions"
   ]
  },
  {
   "cell_type": "markdown",
   "metadata": {},
   "source": [
    "What is the area of a circle with a radius of 7cm?"
   ]
  },
  {
   "cell_type": "code",
   "execution_count": 8,
   "metadata": {},
   "outputs": [
    {
     "name": "stdout",
     "output_type": "stream",
     "text": [
      "153.93804002589985\n"
     ]
    }
   ],
   "source": [
    "import test_module\n",
    "\n",
    "test_module.circle()"
   ]
  },
  {
   "cell_type": "markdown",
   "metadata": {},
   "source": [
    "What is the hypotenuse of a right angle with sides of 3in and 4in?"
   ]
  },
  {
   "cell_type": "code",
   "execution_count": 9,
   "metadata": {},
   "outputs": [
    {
     "name": "stdout",
     "output_type": "stream",
     "text": [
      "5.0\n"
     ]
    }
   ],
   "source": [
    "test_module.triangle()"
   ]
  },
  {
   "cell_type": "code",
   "execution_count": null,
   "metadata": {},
   "outputs": [],
   "source": []
  }
 ],
 "metadata": {
  "kernelspec": {
   "display_name": "Python 3 (ipykernel)",
   "language": "python",
   "name": "python3"
  },
  "language_info": {
   "codemirror_mode": {
    "name": "ipython",
    "version": 3
   },
   "file_extension": ".py",
   "mimetype": "text/x-python",
   "name": "python",
   "nbconvert_exporter": "python",
   "pygments_lexer": "ipython3",
   "version": "3.9.13"
  }
 },
 "nbformat": 4,
 "nbformat_minor": 4
}
